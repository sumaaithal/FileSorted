{
 "cells": [
  {
   "cell_type": "markdown",
   "id": "4a656d82",
   "metadata": {},
   "source": [
    "# import the standard libraries"
   ]
  },
  {
   "cell_type": "code",
   "execution_count": 2,
   "id": "27a4392c",
   "metadata": {},
   "outputs": [],
   "source": [
    "import os, shutil"
   ]
  },
  {
   "cell_type": "markdown",
   "id": "87e3f6ae",
   "metadata": {},
   "source": [
    "# create a path variable"
   ]
  },
  {
   "cell_type": "code",
   "execution_count": 3,
   "id": "5b591600",
   "metadata": {},
   "outputs": [],
   "source": [
    "path = \"C:\\\\Users\\\\SKUP\\\\OneDrive - Capco\\\\Desktop\\\\coding\\\\alex analyst da bootcamp\\\\file_sort\\\\\""
   ]
  },
  {
   "cell_type": "markdown",
   "id": "e3506abf",
   "metadata": {},
   "source": [
    "# list the file names in the given path"
   ]
  },
  {
   "cell_type": "code",
   "execution_count": 11,
   "id": "e6c71338",
   "metadata": {},
   "outputs": [
    {
     "name": "stdout",
     "output_type": "stream",
     "text": [
      "['csv_files', 'image_files', 'text_files']\n"
     ]
    }
   ],
   "source": [
    "file_names = os.listdir(path)\n",
    "print(file_names)"
   ]
  },
  {
   "cell_type": "markdown",
   "id": "f0daf57f",
   "metadata": {},
   "source": [
    "# check if the files exists in the folder"
   ]
  },
  {
   "cell_type": "code",
   "execution_count": 5,
   "id": "dd4368e4",
   "metadata": {},
   "outputs": [],
   "source": [
    "folder_names = ['csv_files','image_files','text_files']\n",
    "for name in range(len(folder_names)):\n",
    "    #print(os.path.exists(path+folder_names[name]))\n",
    "    \n",
    "    if not os.path.exists(path+folder_names[name]):\n",
    "        os.makedirs(path+folder_names[name])"
   ]
  },
  {
   "cell_type": "markdown",
   "id": "08689597",
   "metadata": {},
   "source": [
    "# move the files to their respective folder, if doesn't exists"
   ]
  },
  {
   "cell_type": "code",
   "execution_count": 10,
   "id": "b74b6f82",
   "metadata": {},
   "outputs": [
    {
     "name": "stdout",
     "output_type": "stream",
     "text": [
      "this type of files are not included and not moved\n",
      "this type of files are not included and not moved\n",
      "this type of files are not included and not moved\n"
     ]
    }
   ],
   "source": [
    "for file in file_names:\n",
    "    if \".csv\" in file and not os.path.exists(path+'csv_files'+'\\\\'+file):\n",
    "        shutil.move(path+file,path+'csv_files'+'\\\\'+file)\n",
    "        \n",
    "    elif \".jpg\" in file and not os.path.exists(path+'image_files'+'\\\\'+file):\n",
    "        shutil.move(path+file,path+'image_files'+'\\\\'+file)\n",
    "        \n",
    "    elif \".docx\" in file and not os.path.exists(path+'text_files'+'\\\\'+file):\n",
    "        shutil.move(path+file,path+'text_files'+'\\\\'+file)\n",
    "    else:\n",
    "        print(\"this type of files are not included and not moved\")"
   ]
  },
  {
   "cell_type": "code",
   "execution_count": null,
   "id": "20a42efb",
   "metadata": {},
   "outputs": [],
   "source": []
  }
 ],
 "metadata": {
  "kernelspec": {
   "display_name": "Python 3 (ipykernel)",
   "language": "python",
   "name": "python3"
  },
  "language_info": {
   "codemirror_mode": {
    "name": "ipython",
    "version": 3
   },
   "file_extension": ".py",
   "mimetype": "text/x-python",
   "name": "python",
   "nbconvert_exporter": "python",
   "pygments_lexer": "ipython3",
   "version": "3.9.7"
  }
 },
 "nbformat": 4,
 "nbformat_minor": 5
}
